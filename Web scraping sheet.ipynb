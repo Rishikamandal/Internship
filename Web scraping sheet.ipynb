{
 "cells": [
  {
   "cell_type": "code",
   "execution_count": null,
   "id": "7a65633b",
   "metadata": {},
   "outputs": [
    {
     "name": "stdout",
     "output_type": "stream",
     "text": [
      "Collecting bs4\n",
      "  Using cached bs4-0.0.1-py3-none-any.whl\n",
      "Requirement already satisfied: beautifulsoup4 in c:\\users\\dell\\anaconda3\\lib\\site-packages (from bs4) (4.10.0)\n",
      "Requirement already satisfied: soupsieve>1.2 in c:\\users\\dell\\anaconda3\\lib\\site-packages (from beautifulsoup4->bs4) (2.2.1)\n",
      "Installing collected packages: bs4\n",
      "Successfully installed bs4-0.0.1\n"
     ]
    }
   ],
   "source": [
    "!pip install bs4\n",
    "!pip install requests "
   ]
  },
  {
   "cell_type": "code",
   "execution_count": 8,
   "id": "f0104b1a",
   "metadata": {},
   "outputs": [],
   "source": [
    "#import the libraries of requests and beautifullsoup\n",
    "from bs4 import BeautifulSoup\n",
    "import requests"
   ]
  },
  {
   "cell_type": "markdown",
   "id": "f037e03f",
   "metadata": {},
   "source": [
    "#Write a python program to display all the header tags from wikipedia.org"
   ]
  },
  {
   "cell_type": "code",
   "execution_count": 11,
   "id": "0ac0d2ef",
   "metadata": {},
   "outputs": [],
   "source": [
    "#using request library and fetching the url\n",
    "page = requests.get('https://en.wikipedia.org/wiki/Main_Page')"
   ]
  },
  {
   "cell_type": "code",
   "execution_count": 16,
   "id": "e14883fd",
   "metadata": {},
   "outputs": [],
   "source": [
    "#creating a beautifullsoup onject\n",
    "Soup = BeautifulSoup(page.content)"
   ]
  },
  {
   "cell_type": "code",
   "execution_count": 20,
   "id": "cfe794a3",
   "metadata": {
    "scrolled": true
   },
   "outputs": [
    {
     "name": "stdout",
     "output_type": "stream",
     "text": [
      "h1->Main Page\n",
      "h1->Welcome to Wikipedia\n",
      "h2->From today's featured article\n",
      "h2->Did you know ...\n",
      "h2->In the news\n",
      "h2->On this day\n",
      "h2->Today's featured picture\n",
      "h2->Other areas of Wikipedia\n",
      "h2->Wikipedia's sister projects\n",
      "h2->Wikipedia languages\n",
      "h2->Navigation menu\n",
      "h3->Personal tools\n",
      "h3->Namespaces\n",
      "h3->Views\n",
      "h3->Search\n",
      "h3->Navigation\n",
      "h3->Contribute\n",
      "h3->Tools\n",
      "h3->Print/export\n",
      "h3->In other projects\n",
      "h3->Languages\n"
     ]
    }
   ],
   "source": [
    "#creating a list of all common heading tags\n",
    "heading_tags =[\"h1\",\"h2\",\"h3\"]\n",
    "for tages in Soup.find_all(heading_tags):\n",
    "    print(tages.name+\"->\"+tages.text.strip())"
   ]
  },
  {
   "cell_type": "markdown",
   "id": "13a17084",
   "metadata": {},
   "source": [
    "#Write a python program to display IMDB’s Top rated 100 movies’ data (i.e. name, rating, year of release)\n",
    "#and make data frame"
   ]
  },
  {
   "cell_type": "code",
   "execution_count": 56,
   "id": "43e42837",
   "metadata": {},
   "outputs": [
    {
     "name": "stdout",
     "output_type": "stream",
     "text": [
      "1 - The Shawshank Redemption (1994) - Starring: Frank Darabont (dir.), Tim Robbins, Morgan Freeman 9.234852108608496\n",
      "2 - The Godfather (1972) - Starring: Francis Ford Coppola (dir.), Marlon Brando, Al Pacino 9.156509645430084\n",
      "3 - The Dark Knight (2008) - Starring: Christopher Nolan (dir.), Christian Bale, Heath Ledger 8.988150221917747\n",
      "4 - The Godfather Part II (1974) - Starring: Francis Ford Coppola (dir.), Al Pacino, Robert De Niro 8.984463268139605\n",
      "5 - 12 Angry Men (1957) - Starring: Sidney Lumet (dir.), Henry Fonda, Lee J. Cobb 8.949837035323903\n",
      "6 - Schindler's List (1993) - Starring: Steven Spielberg (dir.), Liam Neeson, Ralph Fiennes 8.936923557436868\n",
      "7 - The Lord of the Rings: The Return of the King (2003) - Starring: Peter Jackson (dir.), Elijah Wood, Viggo Mortensen 8.925691136918958\n",
      "8 - Pulp Fiction (1994) - Starring: Quentin Tarantino (dir.), John Travolta, Uma Thurman 8.849175761389247\n",
      "9 - The Lord of the Rings: The Fellowship of the Ring (2001) - Starring: Peter Jackson (dir.), Elijah Wood, Ian McKellen 8.806426052700166\n",
      "1 -  Il buono, il brutto, il cattivo (1966) - Starring: Sergio Leone (dir.), Clint Eastwood, Eli Wallach 8.792079783342619\n",
      "11 - Forrest Gump (1994) - Starring: Robert Zemeckis (dir.), Tom Hanks, Robin Wright 8.767901134746324\n",
      "12 - Fight Club (1999) - Starring: David Fincher (dir.), Brad Pitt, Edward Norton 8.748965270460404\n",
      "13 - Inception (2010) - Starring: Christopher Nolan (dir.), Leonardo DiCaprio, Joseph Gordon-Levitt 8.733268274449747\n",
      "14 - The Lord of the Rings: The Two Towers (2002) - Starring: Peter Jackson (dir.), Elijah Wood, Ian McKellen 8.731378630477646\n",
      "15 - The Empire Strikes Back (1980) - Starring: Irvin Kershner (dir.), Mark Hamill, Harrison Ford 8.700726867619514\n",
      "16 - The Matrix (1999) - Starring: Lana Wachowski (dir.), Keanu Reeves, Laurence Fishburne 8.670184722051488\n",
      "17 - Goodfellas (1990) - Starring: Martin Scorsese (dir.), Robert De Niro, Ray Liotta 8.652326897490596\n",
      "18 - One Flew Over the Cuckoo's Nest (1975) - Starring: Milos Forman (dir.), Jack Nicholson, Louise Fletcher 8.640034517364324\n",
      "19 - Se7en (1995) - Starring: David Fincher (dir.), Morgan Freeman, Brad Pitt 8.60429534449232\n",
      "20 - Shichinin no samurai (1954) - Starring: Akira Kurosawa (dir.), Toshirô Mifune, Takashi Shimura 8.599067266959334\n",
      "21 - It's a Wonderful Life (1946) - Starring: Frank Capra (dir.), James Stewart, Donna Reed 8.596460376352441\n",
      "22 - The Silence of the Lambs (1991) - Starring: Jonathan Demme (dir.), Jodie Foster, Anthony Hopkins 8.588246357041692\n",
      "23 - Cidade de Deus (2002) - Starring: Fernando Meirelles (dir.), Alexandre Rodrigues, Leandro Firmino 8.579310663977134\n",
      "24 - Saving Private Ryan (1998) - Starring: Steven Spielberg (dir.), Tom Hanks, Matt Damon 8.578757374845022\n",
      "25 - La vita è bella (1997) - Starring: Roberto Benigni (dir.), Roberto Benigni, Nicoletta Braschi 8.566755221990734\n",
      "26 - The Green Mile (1999) - Starring: Frank Darabont (dir.), Tom Hanks, Michael Clarke Duncan 8.561353833201506\n",
      "27 - Interstellar (2014) - Starring: Christopher Nolan (dir.), Matthew McConaughey, Anne Hathaway 8.561182310331057\n",
      "28 - Star Wars (1977) - Starring: George Lucas (dir.), Mark Hamill, Harrison Ford 8.552166707892694\n",
      "29 - Terminator 2: Judgment Day (1991) - Starring: James Cameron (dir.), Arnold Schwarzenegger, Linda Hamilton 8.536291349123072\n",
      "30 - Back to the Future (1985) - Starring: Robert Zemeckis (dir.), Michael J. Fox, Christopher Lloyd 8.517856661865798\n",
      "31 - Sen to Chihiro no kamikakushi (2001) - Starring: Hayao Miyazaki (dir.), Daveigh Chase, Suzanne Pleshette 8.515558246277001\n",
      "32 - Psycho (1960) - Starring: Alfred Hitchcock (dir.), Anthony Perkins, Janet Leigh 8.50810045411203\n",
      "33 - The Pianist (2002) - Starring: Roman Polanski (dir.), Adrien Brody, Thomas Kretschmann 8.505775559827333\n",
      "34 - Léon (1994) - Starring: Luc Besson (dir.), Jean Reno, Gary Oldman 8.497882414759966\n",
      "35 - Gisaengchung (2019) - Starring: Bong Joon Ho (dir.), Song Kang-ho, Lee Sun-kyun 8.497033842649406\n",
      "36 - The Lion King (1994) - Starring: Roger Allers (dir.), Matthew Broderick, Jeremy Irons 8.488471984489774\n",
      "37 - Gladiator (2000) - Starring: Ridley Scott (dir.), Russell Crowe, Joaquin Phoenix 8.486376079210197\n",
      "38 - American History X (1998) - Starring: Tony Kaye (dir.), Edward Norton, Edward Furlong 8.483519489428712\n",
      "39 - The Departed (2006) - Starring: Martin Scorsese (dir.), Leonardo DiCaprio, Matt Damon 8.475626371477428\n",
      "40 - The Usual Suspects (1995) - Starring: Bryan Singer (dir.), Kevin Spacey, Gabriel Byrne 8.474123078194262\n",
      "41 - The Prestige (2006) - Starring: Christopher Nolan (dir.), Christian Bale, Hugh Jackman 8.468576891570079\n",
      "42 - Casablanca (1942) - Starring: Michael Curtiz (dir.), Humphrey Bogart, Ingrid Bergman 8.464065916710409\n",
      "43 - Whiplash (2014) - Starring: Damien Chazelle (dir.), Miles Teller, J.K. Simmons 8.463174462846014\n",
      "44 - The Intouchables (2011) - Starring: Olivier Nakache (dir.), François Cluzet, Omar Sy 8.453806883533737\n",
      "45 - Hotaru no haka (1988) - Starring: Isao Takahata (dir.), Tsutomu Tatsumi, Ayano Shiraishi 8.451296688222223\n",
      "46 - Seppuku (1962) - Starring: Masaki Kobayashi (dir.), Tatsuya Nakadai, Akira Ishihama 8.450916374621265\n",
      "47 - Modern Times (1936) - Starring: Charles Chaplin (dir.), Charles Chaplin, Paulette Goddard 8.448655676452194\n",
      "48 - Once Upon a Time in the West (1968) - Starring: Sergio Leone (dir.), Henry Fonda, Charles Bronson 8.445835419809478\n",
      "49 - Rear Window (1954) - Starring: Alfred Hitchcock (dir.), James Stewart, Grace Kelly 8.43710325130461\n",
      "50 - Alien (1979) - Starring: Ridley Scott (dir.), Sigourney Weaver, Tom Skerritt 8.434466315661282\n",
      "51 - City Lights (1931) - Starring: Charles Chaplin (dir.), Charles Chaplin, Virginia Cherrill 8.434246336782397\n",
      "52 - Nuovo Cinema Paradiso (1988) - Starring: Giuseppe Tornatore (dir.), Philippe Noiret, Enzo Cannavale 8.43138244636644\n",
      "53 - Apocalypse Now (1979) - Starring: Francis Ford Coppola (dir.), Martin Sheen, Marlon Brando 8.424565366394697\n",
      "54 - Memento (2000) - Starring: Christopher Nolan (dir.), Guy Pearce, Carrie-Anne Moss 8.423719877868088\n",
      "55 - Raiders of the Lost Ark (1981) - Starring: Steven Spielberg (dir.), Harrison Ford, Karen Allen 8.41009740321618\n",
      "56 - Django Unchained (2012) - Starring: Quentin Tarantino (dir.), Jamie Foxx, Christoph Waltz 8.404940317184256\n",
      "57 - WALL·E (2008) - Starring: Andrew Stanton (dir.), Ben Burtt, Elissa Knight 8.393735738938561\n",
      "58 - The Lives of Others (2006) - Starring: Florian Henckel von Donnersmarck (dir.), Ulrich Mühe, Martina Gedeck 8.385547015348333\n",
      "59 - Sunset Blvd (1950) - Starring: Billy Wilder (dir.), William Holden, Gloria Swanson 8.382838284334502\n",
      "60 - Paths of Glory (1957) - Starring: Stanley Kubrick (dir.), Kirk Douglas, Ralph Meeker 8.371848005571724\n",
      "61 - The Shining (1980) - Starring: Stanley Kubrick (dir.), Jack Nicholson, Shelley Duvall 8.366747792250404\n",
      "62 - The Great Dictator (1940) - Starring: Charles Chaplin (dir.), Charles Chaplin, Paulette Goddard 8.365897386582283\n",
      "63 - Witness for the Prosecution (1957) - Starring: Billy Wilder (dir.), Tyrone Power, Marlene Dietrich 8.359463995703322\n",
      "64 - Avengers: Infinity War (2018) - Starring: Anthony Russo (dir.), Robert Downey Jr., Chris Hemsworth 8.359453278499245\n",
      "65 - Aliens (1986) - Starring: James Cameron (dir.), Sigourney Weaver, Michael Biehn 8.343837948486996\n",
      "66 - American Beauty (1999) - Starring: Sam Mendes (dir.), Kevin Spacey, Annette Bening 8.335249009497327\n",
      "67 - Top Gun: Maverick (2022) - Starring: Joseph Kosinski (dir.), Tom Cruise, Jennifer Connelly 8.333269400472938\n",
      "68 - Spider-Man: Into the Spider-Verse (2018) - Starring: Bob Persichetti (dir.), Shameik Moore, Jake Johnson 8.332282993366373\n",
      "69 - Dr Strangelove or: How I Learned to Stop Worrying and Love the Bomb (1964) - Starring: Stanley Kubrick (dir.), Peter Sellers, George C. Scott 8.331570485000695\n",
      "70 - The Dark Knight Rises (2012) - Starring: Christopher Nolan (dir.), Christian Bale, Tom Hardy 8.32809972653029\n",
      "71 - Oldeuboi (2003) - Starring: Park Chan-wook (dir.), Choi Min-sik, Yoo Ji-tae 8.320154912921176\n",
      "72 - Joker (2019) - Starring: Todd Phillips (dir.), Joaquin Phoenix, Robert De Niro 8.317316032356196\n",
      "73 - Amadeus (1984) - Starring: Milos Forman (dir.), F. Murray Abraham, Tom Hulce 8.315783875666432\n",
      "74 - Braveheart (1995) - Starring: Mel Gibson (dir.), Mel Gibson, Sophie Marceau 8.315026273554032\n",
      "75 - Toy Story (1995) - Starring: John Lasseter (dir.), Tom Hanks, Tim Allen 8.314828645214593\n",
      "76 - Coco (2017) - Starring: Lee Unkrich (dir.), Anthony Gonzalez, Gael García Bernal 8.313562358175693\n",
      "77 - Inglourious Basterds (2009) - Starring: Quentin Tarantino (dir.), Brad Pitt, Diane Kruger 8.313499222123802\n",
      "78 - Das Boot (1981) - Starring: Wolfgang Petersen (dir.), Jürgen Prochnow, Herbert Grönemeyer 8.312340042402088\n",
      "79 - Avengers: Endgame (2019) - Starring: Anthony Russo (dir.), Robert Downey Jr., Chris Evans 8.30385837266559\n",
      "80 - Mononoke-hime (1997) - Starring: Hayao Miyazaki (dir.), Yôji Matsuda, Yuriko Ishida 8.303499490329468\n",
      "81 - Once Upon a Time in America (1984) - Starring: Sergio Leone (dir.), Robert De Niro, James Woods 8.29784024151074\n",
      "82 - Good Will Hunting (1997) - Starring: Gus Van Sant (dir.), Robin Williams, Matt Damon 8.288546015312928\n",
      "83 - Kimi no na wa (2016) - Starring: Makoto Shinkai (dir.), Ryûnosuke Kamiki, Mone Kamishiraishi 8.278194174713104\n",
      "84 - Requiem for a Dream (2000) - Starring: Darren Aronofsky (dir.), Ellen Burstyn, Jared Leto 8.275552663307037\n",
      "85 - Toy Story 3 (2010) - Starring: Lee Unkrich (dir.), Tom Hanks, Tim Allen 8.275106039589303\n",
      "86 - Singin' in the Rain (1952) - Starring: Stanley Donen (dir.), Gene Kelly, Donald O'Connor 8.27334554350322\n",
      "87 - 3 Idiots (2009) - Starring: Rajkumar Hirani (dir.), Aamir Khan, Madhavan 8.272505264523398\n",
      "88 - Tengoku to jigoku (1963) - Starring: Akira Kurosawa (dir.), Toshirô Mifune, Yutaka Sada 8.267343181938227\n",
      "89 - Star Wars: Episode VI - Return of the Jedi (1983) - Starring: Richard Marquand (dir.), Mark Hamill, Harrison Ford 8.266576703375163\n",
      "90 - 2001: A Space Odyssey (1968) - Starring: Stanley Kubrick (dir.), Keir Dullea, Gary Lockwood 8.263648227704328\n",
      "91 - Eternal Sunshine of the Spotless Mind (2004) - Starring: Michel Gondry (dir.), Jim Carrey, Kate Winslet 8.26318004167319\n",
      "92 - Reservoir Dogs (1992) - Starring: Quentin Tarantino (dir.), Harvey Keitel, Tim Roth 8.26260668124772\n",
      "93 - Capharnaüm (2018) - Starring: Nadine Labaki (dir.), Zain Al Rafeea, Yordanos Shiferaw 8.260609375919836\n",
      "94 - Jagten (2012) - Starring: Thomas Vinterberg (dir.), Mads Mikkelsen, Thomas Bo Larsen 8.255832248372066\n",
      "95 - Lawrence of Arabia (1962) - Starring: David Lean (dir.), Peter O'Toole, Alec Guinness 8.255112402786894\n",
      "96 - Citizen Kane (1941) - Starring: Orson Welles (dir.), Orson Welles, Joseph Cotten 8.255017042534464\n",
      "97 - M - Eine Stadt sucht einen Mörder (1931) - Starring: Fritz Lang (dir.), Peter Lorre, Ellen Widmann 8.254092038607151\n",
      "98 - North by Northwest (1959) - Starring: Alfred Hitchcock (dir.), Cary Grant, Eva Marie Saint 8.251185488425953\n",
      "99 - Idi i smotri (1985) - Starring: Elem Klimov (dir.), Aleksey Kravchenko, Olga Mironova 8.249061530720539\n",
      "10 -  Vertigo (1958) - Starring: Alfred Hitchcock (dir.), James Stewart, Kim Novak 8.246153536235237\n",
      "101 - Le fabuleux destin d'Amélie Poulain (2001) - Starring: Jean-Pierre Jeunet (dir.), Audrey Tautou, Mathieu Kassovitz 8.244134046292894\n",
      "102 - A Clockwork Orange (1971) - Starring: Stanley Kubrick (dir.), Malcolm McDowell, Patrick Magee 8.242483144561273\n",
      "103 - Double Indemnity (1944) - Starring: Billy Wilder (dir.), Fred MacMurray, Barbara Stanwyck 8.239284543560071\n",
      "104 - The Apartment (1960) - Starring: Billy Wilder (dir.), Jack Lemmon, Shirley MacLaine 8.239106374541153\n",
      "105 - Full Metal Jacket (1987) - Starring: Stanley Kubrick (dir.), Matthew Modine, R. Lee Ermey 8.238914757110683\n",
      "106 - Ikiru (1952) - Starring: Akira Kurosawa (dir.), Takashi Shimura, Nobuo Kaneko 8.236225156980769\n",
      "107 - Scarface (1983) - Starring: Brian De Palma (dir.), Al Pacino, Michelle Pfeiffer 8.23541661625662\n",
      "108 - To Kill a Mockingbird (1962) - Starring: Robert Mulligan (dir.), Gregory Peck, John Megna 8.228180293091954\n",
      "109 - The Sting (1973) - Starring: George Roy Hill (dir.), Paul Newman, Robert Redford 8.22807122965737\n",
      "110 - Hamilton (2020) - Starring: Thomas Kail (dir.), Lin-Manuel Miranda, Phillipa Soo 8.226441537828823\n",
      "111 - Taxi Driver (1976) - Starring: Martin Scorsese (dir.), Robert De Niro, Jodie Foster 8.224783613321607\n",
      "112 - Heat (1995) - Starring: Michael Mann (dir.), Al Pacino, Robert De Niro 8.224782133218394\n",
      "113 - Up (2009) - Starring: Pete Docter (dir.), Edward Asner, Jordan Nagai 8.2247212285251\n",
      "114 - Incendies (2010) - Starring: Denis Villeneuve (dir.), Lubna Azabal, Mélissa Désormeaux-Poulin 8.222478877869655\n",
      "115 - LA Confidential (1997) - Starring: Curtis Hanson (dir.), Kevin Spacey, Russell Crowe 8.222303665102212\n",
      "116 - Jodaeiye Nader az Simin (2011) - Starring: Asghar Farhadi (dir.), Payman Maadi, Leila Hatami 8.221540089025762\n",
      "117 - Metropolis (1927) - Starring: Fritz Lang (dir.), Brigitte Helm, Alfred Abel 8.221010978120344\n",
      "118 - Die Hard (1988) - Starring: John McTiernan (dir.), Bruce Willis, Alan Rickman 8.219309268959346\n",
      "119 - Snatch (2000) - Starring: Guy Ritchie (dir.), Jason Statham, Brad Pitt 8.219206248682951\n",
      "120 - Ladri di biciclette (1948) - Starring: Vittorio De Sica (dir.), Lamberto Maggiorani, Enzo Staiola 8.218240801093415\n",
      "121 - Indiana Jones and the Last Crusade (1989) - Starring: Steven Spielberg (dir.), Harrison Ford, Sean Connery 8.217760348954037\n",
      "122 - 1917 (2019) - Starring: Sam Mendes (dir.), Dean-Charles Chapman, George MacKay 8.211695420237694\n",
      "123 - Taare Zameen Par (2007) - Starring: Aamir Khan (dir.), Darsheel Safary, Aamir Khan 8.210594202800738\n",
      "124 - Der Untergang (2004) - Starring: Oliver Hirschbiegel (dir.), Bruno Ganz, Alexandra Maria Lara 8.204273514102434\n",
      "125 - Per qualche dollaro in più (1965) - Starring: Sergio Leone (dir.), Clint Eastwood, Lee Van Cleef 8.20198762644784\n",
      "126 - Batman Begins (2005) - Starring: Christopher Nolan (dir.), Christian Bale, Michael Caine 8.200801503420577\n",
      "127 - Dangal (2016) - Starring: Nitesh Tiwari (dir.), Aamir Khan, Sakshi Tanwar 8.200252209496611\n",
      "128 - The Kid (1921) - Starring: Charles Chaplin (dir.), Charles Chaplin, Edna Purviance 8.193813132639372\n",
      "129 - Some Like It Hot (1959) - Starring: Billy Wilder (dir.), Marilyn Monroe, Tony Curtis 8.192069832521112\n",
      "130 - All About Eve (1950) - Starring: Joseph L. Mankiewicz (dir.), Bette Davis, Anne Baxter 8.181347776082037\n",
      "131 - The Father (2020) - Starring: Florian Zeller (dir.), Anthony Hopkins, Olivia Colman 8.180710873917194\n",
      "132 - Green Book (2018) - Starring: Peter Farrelly (dir.), Viggo Mortensen, Mahershala Ali 8.17568720007679\n",
      "133 - The Wolf of Wall Street (2013) - Starring: Martin Scorsese (dir.), Leonardo DiCaprio, Jonah Hill 8.173992516900093\n",
      "134 - Judgment at Nuremberg (1961) - Starring: Stanley Kramer (dir.), Spencer Tracy, Burt Lancaster 8.170629054633446\n",
      "135 - Ran (1985) - Starring: Akira Kurosawa (dir.), Tatsuya Nakadai, Akira Terao 8.16573002427201\n",
      "136 - Casino (1995) - Starring: Martin Scorsese (dir.), Robert De Niro, Sharon Stone 8.164064184152448\n",
      "137 - Spider-Man: No Way Home (2021) - Starring: Jon Watts (dir.), Tom Holland, Zendaya 8.163318915097099\n",
      "138 - Unforgiven (1992) - Starring: Clint Eastwood (dir.), Clint Eastwood, Gene Hackman 8.162679249805171\n",
      "139 - Pan's Labyrinth (2006) - Starring: Guillermo del Toro (dir.), Ivana Baquero, Ariadna Gil 8.162307297732601\n",
      "140 - There Will Be Blood (2007) - Starring: Paul Thomas Anderson (dir.), Daniel Day-Lewis, Paul Dano 8.15725417509438\n",
      "141 - The Truman Show (1998) - Starring: Peter Weir (dir.), Jim Carrey, Ed Harris 8.154979468140578\n",
      "142 - The Sixth Sense (1999) - Starring: M. Night Shyamalan (dir.), Bruce Willis, Haley Joel Osment 8.153756570999004\n",
      "143 - A Beautiful Mind (2001) - Starring: Ron Howard (dir.), Russell Crowe, Ed Harris 8.152372219085128\n",
      "144 - Monty Python and the Holy Grail (1975) - Starring: Terry Gilliam (dir.), Graham Chapman, John Cleese 8.149850091808586\n",
      "145 - Yôjinbô (1961) - Starring: Akira Kurosawa (dir.), Toshirô Mifune, Eijirô Tôno 8.149718419026096\n",
      "146 - The Treasure of the Sierra Madre (1948) - Starring: John Huston (dir.), Humphrey Bogart, Walter Huston 8.148562500528467\n",
      "147 - Shutter Island (2010) - Starring: Martin Scorsese (dir.), Leonardo DiCaprio, Emily Mortimer 8.146767516197805\n",
      "148 - Jurassic Park (1993) - Starring: Steven Spielberg (dir.), Sam Neill, Laura Dern 8.145557835116014\n",
      "149 - Rashômon (1950) - Starring: Akira Kurosawa (dir.), Toshirô Mifune, Machiko Kyô 8.142468423486172\n",
      "150 - The Great Escape (1963) - Starring: John Sturges (dir.), Steve McQueen, James Garner 8.142243871217167\n",
      "151 - Kill Bill: Vol 1 (2003) - Starring: Quentin Tarantino (dir.), Uma Thurman, David Carradine 8.137879871777658\n",
      "152 - No Country for Old Men (2007) - Starring: Ethan Coen (dir.), Tommy Lee Jones, Javier Bardem 8.137047509391625\n",
      "153 - Finding Nemo (2003) - Starring: Andrew Stanton (dir.), Albert Brooks, Ellen DeGeneres 8.131711250214137\n",
      "154 - The Elephant Man (1980) - Starring: David Lynch (dir.), Anthony Hopkins, John Hurt 8.129843412917134\n",
      "155 - Chinatown (1974) - Starring: Roman Polanski (dir.), Jack Nicholson, Faye Dunaway 8.129114568719066\n",
      "156 - Raging Bull (1980) - Starring: Martin Scorsese (dir.), Robert De Niro, Cathy Moriarty 8.127992076463578\n",
      "157 - The Thing (1982) - Starring: John Carpenter (dir.), Kurt Russell, Wilford Brimley 8.127528455122803\n",
      "158 - Gone with the Wind (1939) - Starring: Victor Fleming (dir.), Clark Gable, Vivien Leigh 8.124977975431776\n",
      "159 - V for Vendetta (2005) - Starring: James McTeigue (dir.), Hugo Weaving, Natalie Portman 8.124869648774483\n",
      "160 - Inside Out (2015) - Starring: Pete Docter (dir.), Amy Poehler, Bill Hader 8.123246428710296\n",
      "161 - Lock, Stock and Two Smoking Barrels (1998) - Starring: Guy Ritchie (dir.), Jason Flemyng, Dexter Fletcher 8.122080526556974\n",
      "162 - Dial M for Murder (1954) - Starring: Alfred Hitchcock (dir.), Ray Milland, Grace Kelly 8.120531513607723\n",
      "163 - El secreto de sus ojos (2009) - Starring: Juan José Campanella (dir.), Ricardo Darín, Soledad Villamil 8.117394043289535\n",
      "164 - Hauru no ugoku shiro (2004) - Starring: Hayao Miyazaki (dir.), Chieko Baishô, Takuya Kimura 8.115365192386777\n",
      "165 - The Bridge on the River Kwai (1957) - Starring: David Lean (dir.), William Holden, Alec Guinness 8.113253971427849\n",
      "166 - Three Billboards Outside Ebbing, Missouri (2017) - Starring: Martin McDonagh (dir.), Frances McDormand, Woody Harrelson 8.11147686395669\n",
      "167 - Trainspotting (1996) - Starring: Danny Boyle (dir.), Ewan McGregor, Ewen Bremner 8.110591350013483\n",
      "168 - Warrior (2011) - Starring: Gavin O'Connor (dir.), Tom Hardy, Nick Nolte 8.104167981230045\n",
      "169 - Gran Torino (2008) - Starring: Clint Eastwood (dir.), Clint Eastwood, Bee Vang 8.103791344642291\n",
      "170 - Fargo (1996) - Starring: Joel Coen (dir.), William H. Macy, Frances McDormand 8.102943290394538\n",
      "171 - Prisoners (2013) - Starring: Denis Villeneuve (dir.), Hugh Jackman, Jake Gyllenhaal 8.099328245317926\n",
      "172 - Tonari no Totoro (1988) - Starring: Hayao Miyazaki (dir.), Hitoshi Takagi, Noriko Hidaka 8.094005056397476\n",
      "173 - Million Dollar Baby (2004) - Starring: Clint Eastwood (dir.), Hilary Swank, Clint Eastwood 8.089574032503133\n",
      "174 - Catch Me If You Can (2002) - Starring: Steven Spielberg (dir.), Leonardo DiCaprio, Tom Hanks 8.088430998112804\n",
      "175 - The Gold Rush (1925) - Starring: Charles Chaplin (dir.), Charles Chaplin, Mack Swain 8.08686942768187\n",
      "176 - Blade Runner (1982) - Starring: Ridley Scott (dir.), Harrison Ford, Rutger Hauer 8.08489872861045\n",
      "177 - Bacheha-Ye aseman (1997) - Starring: Majid Majidi (dir.), Mohammad Amir Naji, Amir Farrokh Hashemian 8.084248450881285\n",
      "178 - On the Waterfront (1954) - Starring: Elia Kazan (dir.), Marlon Brando, Karl Malden 8.083414339334439\n",
      "179 - The Third Man (1949) - Starring: Carol Reed (dir.), Orson Welles, Joseph Cotten 8.08093807298295\n",
      "180 - Before Sunrise (1995) - Starring: Richard Linklater (dir.), Ethan Hawke, Julie Delpy 8.079279453642716\n",
      "181 - 12 Years a Slave (2013) - Starring: Steve McQueen (dir.), Chiwetel Ejiofor, Michael Kenneth Williams 8.079100245962296\n",
      "182 - Ben-Hur (1959) - Starring: William Wyler (dir.), Charlton Heston, Jack Hawkins 8.078677677398998\n",
      "183 - Smultronstället (1957) - Starring: Ingmar Bergman (dir.), Victor Sjöström, Bibi Andersson 8.078126632994689\n",
      "184 - Harry Potter and the Deathly Hallows: Part 2 (2011) - Starring: David Yates (dir.), Daniel Radcliffe, Emma Watson 8.077900329166985\n",
      "185 - Gone Girl (2014) - Starring: David Fincher (dir.), Ben Affleck, Rosamund Pike 8.077253904719505\n",
      "186 - The General (1926) - Starring: Clyde Bruckman (dir.), Buster Keaton, Marion Mack 8.076968537010528\n",
      "187 - The Deer Hunter (1978) - Starring: Michael Cimino (dir.), Robert De Niro, Christopher Walken 8.075096076132695\n",
      "188 - In the Name of the Father (1993) - Starring: Jim Sheridan (dir.), Daniel Day-Lewis, Pete Postlethwaite 8.074030086478134\n",
      "189 - The Grand Budapest Hotel (2014) - Starring: Wes Anderson (dir.), Ralph Fiennes, F. Murray Abraham 8.073825171139768\n",
      "190 - Le salaire de la peur (1953) - Starring: Henri-Georges Clouzot (dir.), Yves Montand, Charles Vanel 8.071636276945952\n",
      "191 - Barry Lyndon (1975) - Starring: Stanley Kubrick (dir.), Ryan O'Neal, Marisa Berenson 8.07144437008519\n",
      "192 - Mr Smith Goes to Washington (1939) - Starring: Frank Capra (dir.), James Stewart, Jean Arthur 8.070117575689213\n",
      "193 - Sherlock Jr (1924) - Starring: Buster Keaton (dir.), Buster Keaton, Kathryn McGuire 8.069241185988067\n",
      "194 - Hacksaw Ridge (2016) - Starring: Mel Gibson (dir.), Andrew Garfield, Sam Worthington 8.069147086441076\n",
      "195 - Salinui chueok (2003) - Starring: Bong Joon Ho (dir.), Song Kang-ho, Kim Sang-kyung 8.068682952671931\n"
     ]
    },
    {
     "name": "stdout",
     "output_type": "stream",
     "text": [
      "196 - Klaus (2019) - Starring: Sergio Pablos (dir.), Jason Schwartzman, J.K. Simmons 8.067908845403204\n",
      "197 - Relatos salvajes (2014) - Starring: Damián Szifron (dir.), Darío Grandinetti, María Marull 8.06629707944892\n",
      "198 - Det sjunde inseglet (1957) - Starring: Ingmar Bergman (dir.), Max von Sydow, Gunnar Björnstrand 8.065435337563907\n",
      "199 - Room (2015) - Starring: Lenny Abrahamson (dir.), Brie Larson, Jacob Tremblay 8.064962014545603\n",
      "200 - Mad Max: Fury Road (2015) - Starring: George Miller (dir.), Tom Hardy, Charlize Theron 8.063025174105938\n",
      "201 - How to Train Your Dragon (2010) - Starring: Dean DeBlois (dir.), Jay Baruchel, Gerard Butler 8.061911694848167\n",
      "202 - Mary and Max (2009) - Starring: Adam Elliot (dir.), Toni Collette, Philip Seymour Hoffman 8.061061387882527\n",
      "203 - The Big Lebowski (1998) - Starring: Joel Coen (dir.), Jeff Bridges, John Goodman 8.060879773534287\n",
      "204 - Jaws (1975) - Starring: Steven Spielberg (dir.), Roy Scheider, Robert Shaw 8.060483837972608\n",
      "205 - Monsters, Inc (2001) - Starring: Pete Docter (dir.), Billy Crystal, John Goodman 8.05966211980729\n",
      "206 - Everything Everywhere All at Once (2022) - Starring: Dan Kwan (dir.), Michelle Yeoh, Stephanie Hsu 8.058659371014427\n",
      "207 - Tôkyô monogatari (1953) - Starring: Yasujirô Ozu (dir.), Chishû Ryû, Chieko Higashiyama 8.056176584426758\n",
      "208 - Dead Poets Society (1989) - Starring: Peter Weir (dir.), Robin Williams, Robert Sean Leonard 8.054886498276776\n",
      "209 - La passion de Jeanne d'Arc (1928) - Starring: Carl Theodor Dreyer (dir.), Maria Falconetti, Eugene Silvain 8.053980861577084\n",
      "210 - Hotel Rwanda (2004) - Starring: Terry George (dir.), Don Cheadle, Sophie Okonedo 8.052025583012766\n",
      "211 - Ford v Ferrari (2019) - Starring: James Mangold (dir.), Matt Damon, Christian Bale 8.04731359039508\n",
      "212 - Rocky (1976) - Starring: John G. Avildsen (dir.), Sylvester Stallone, Talia Shire 8.047253733323233\n",
      "213 - Platoon (1986) - Starring: Oliver Stone (dir.), Charlie Sheen, Tom Berenger 8.046423338016448\n",
      "214 - Pather Panchali (1955) - Starring: Satyajit Ray (dir.), Kanu Bannerjee, Karuna Bannerjee 8.042786655100597\n",
      "215 - Stand by Me (1986) - Starring: Rob Reiner (dir.), Wil Wheaton, River Phoenix 8.041007557808012\n",
      "216 - The Terminator (1984) - Starring: James Cameron (dir.), Arnold Schwarzenegger, Linda Hamilton 8.040953533622089\n",
      "217 - Spotlight (2015) - Starring: Tom McCarthy (dir.), Mark Ruffalo, Michael Keaton 8.040001517968134\n",
      "218 - Rush (2013) - Starring: Ron Howard (dir.), Daniel Brühl, Chris Hemsworth 8.038001638910979\n",
      "219 - Logan (2017) - Starring: James Mangold (dir.), Hugh Jackman, Patrick Stewart 8.037592423299836\n",
      "220 - Ratatouille (2007) - Starring: Brad Bird (dir.), Brad Garrett, Lou Romano 8.036481339771807\n",
      "221 - Network (1976) - Starring: Sidney Lumet (dir.), Faye Dunaway, William Holden 8.036476055375239\n",
      "222 - Into the Wild (2007) - Starring: Sean Penn (dir.), Emile Hirsch, Vince Vaughn 8.035023369924737\n",
      "223 - The Wizard of Oz (1939) - Starring: Victor Fleming (dir.), Judy Garland, Frank Morgan 8.033895578744207\n",
      "224 - Groundhog Day (1993) - Starring: Harold Ramis (dir.), Bill Murray, Andie MacDowell 8.030856250780593\n",
      "225 - Before Sunset (2004) - Starring: Richard Linklater (dir.), Ethan Hawke, Julie Delpy 8.030097681213011\n",
      "226 - Jai Bhim (2021) - Starring: T.J. Gnanavel (dir.), Suriya, Lijo Mol Jose 8.02970013669331\n",
      "227 - The Exorcist (1973) - Starring: William Friedkin (dir.), Ellen Burstyn, Max von Sydow 8.027449502961389\n",
      "228 - The Best Years of Our Lives (1946) - Starring: William Wyler (dir.), Myrna Loy, Dana Andrews 8.026481811236119\n",
      "229 - The Incredibles (2004) - Starring: Brad Bird (dir.), Craig T. Nelson, Samuel L. Jackson 8.025847377817241\n",
      "230 - To Be or Not to Be (1942) - Starring: Ernst Lubitsch (dir.), Carole Lombard, Jack Benny 8.023895465776995\n",
      "231 - La battaglia di Algeri (1966) - Starring: Gillo Pontecorvo (dir.), Brahim Hadjadj, Jean Martin 8.023267736367284\n",
      "232 - The Grapes of Wrath (1940) - Starring: John Ford (dir.), Henry Fonda, Jane Darwell 8.022669207940794\n",
      "233 - Rebecca (1940) - Starring: Alfred Hitchcock (dir.), Laurence Olivier, Joan Fontaine 8.021975184753499\n",
      "234 - Hachi: A Dog's Tale (2009) - Starring: Lasse Hallström (dir.), Richard Gere, Joan Allen 8.021780632757347\n",
      "235 - Cool Hand Luke (1967) - Starring: Stuart Rosenberg (dir.), Paul Newman, George Kennedy 8.021246137740617\n",
      "236 - Pirates of the Caribbean: The Curse of the Black Pearl (2003) - Starring: Gore Verbinski (dir.), Johnny Depp, Geoffrey Rush 8.021126161229848\n",
      "237 - Amores perros (2000) - Starring: Alejandro G. Iñárritu (dir.), Emilio Echevarría, Gael García Bernal 8.020928252362957\n",
      "238 - La haine (1995) - Starring: Mathieu Kassovitz (dir.), Vincent Cassel, Hubert Koundé 8.019143620460333\n",
      "239 - Babam ve Oglum (2005) - Starring: Cagan Irmak (dir.), Çetin Tekindor, Fikret Kuskan 8.01786580434602\n",
      "240 - Les quatre cents coups (1959) - Starring: François Truffaut (dir.), Jean-Pierre Léaud, Albert Rémy 8.015820097884133\n",
      "241 - Persona (1966) - Starring: Ingmar Bergman (dir.), Bibi Andersson, Liv Ullmann 8.015210508191569\n",
      "242 - It Happened One Night (1934) - Starring: Frank Capra (dir.), Clark Gable, Claudette Colbert 8.01425022383747\n",
      "243 - The Sound of Music (1965) - Starring: Robert Wise (dir.), Julie Andrews, Christopher Plummer 8.012840226519682\n",
      "244 - Life of Brian (1979) - Starring: Terry Jones (dir.), Graham Chapman, John Cleese 8.012598942351438\n",
      "245 - Ah-ga-ssi (2016) - Starring: Park Chan-wook (dir.), Kim Min-hee, Ha Jung-woo 8.012436354116165\n",
      "246 - Dersu Uzala (1975) - Starring: Akira Kurosawa (dir.), Maksim Munzuk, Yuriy Solomin 8.00937064059316\n",
      "247 - Aladdin (1992) - Starring: Ron Clements (dir.), Scott Weinger, Robin Williams 8.005787604624677\n",
      "248 - Gandhi (1982) - Starring: Richard Attenborough (dir.), Ben Kingsley, John Gielgud 8.005745560974512\n",
      "249 - The Help (2011) - Starring: Tate Taylor (dir.), Viola Davis, Emma Stone 8.005145758779697\n",
      "250 - The Iron Giant (1999) - Starring: Brad Bird (dir.), Eli Marienthal, Harry Connick Jr. 8.00294479685255\n"
     ]
    }
   ],
   "source": [
    "import re\n",
    "import pandas as pd\n",
    "\n",
    "\n",
    "# Downloading imdb top 250 movie's data\n",
    "url = 'http://www.imdb.com/chart/top'\n",
    "response = requests.get(url)\n",
    "soup = BeautifulSoup(response.text, \"html.parser\")\n",
    "movies = soup.select('td.titleColumn')\n",
    "crew = [a.attrs.get('title') for a in soup.select('td.titleColumn a')]\n",
    "ratings = [b.attrs.get('data-value')\n",
    "  for b in soup.select('td.posterColumn span[name=ir]')]\n",
    "\n",
    "\n",
    "\n",
    "\n",
    "# create a empty list for storing\n",
    "# movie information\n",
    "list = []\n",
    "\n",
    "# Iterating over movies to extract\n",
    "# each movie's details\n",
    "for index in range(0, len(movies)):\n",
    " \n",
    " # Separating movie into: 'place',\n",
    " # 'title', 'year'\n",
    " movie_string = movies[index].get_text()\n",
    " movie = (' '.join(movie_string.split()).replace('.', ''))\n",
    " movie_title = movie[len(str(index))+1:-7]\n",
    " year = re.search('\\((.*?)\\)', movie_string).group(1)\n",
    " place = movie[:len(str(index))-(len(movie))]\n",
    " data = {\"place\": place,\n",
    "   \"movie_title\": movie_title,\n",
    "   \"rating\": ratings[index],\n",
    "   \"year\": year,\n",
    "   \"star_cast\": crew[index],\n",
    "   }\n",
    " list.append(data)\n",
    "\n",
    "# printing movie details with its rating.\n",
    "for movie in list:\n",
    " print(movie['place'], '-', movie['movie_title'], '('+movie['year'] +\n",
    "  ') -', 'Starring:', movie['star_cast'], movie['rating'])\n",
    "\n",
    "\n",
    "##.......##\n",
    "df = pd.DataFrame(list)\n",
    "df.to_csv('imdb_top_250_movies.csv',index=False)\n"
   ]
  },
  {
   "cell_type": "code",
   "execution_count": 58,
   "id": "559d6db3",
   "metadata": {},
   "outputs": [],
   "source": [
    "# Write s python program to display list of respected former presidents of India(i.e. Name , Term of office) \n",
    "#from https://presidentofindia.nic.in/former-presidents.htm"
   ]
  },
  {
   "cell_type": "code",
   "execution_count": 59,
   "id": "4189b073",
   "metadata": {},
   "outputs": [],
   "source": [
    "site = requests.get('https://presidentofindia.nic.in/former-presidents.htm')\n",
    "soup1=BeautifulSoup(site.content)"
   ]
  },
  {
   "cell_type": "code",
   "execution_count": 64,
   "id": "cdfcb845",
   "metadata": {},
   "outputs": [
    {
     "data": {
      "text/plain": [
       "'\\n\\n\\nShri Ram Nath Kovind (birth - 1945)\\nTerm of Office: 25 July, 2017 to 25 July, 2022 \\nhttps://ramnathkovind.nic.in\\n\\n\\n\\nShri Pranab Mukherjee (1935-2020)\\nTerm of Office: 25 July, 2012 to 25 July, 2017 \\nhttp://pranabmukherjee.nic.in\\n\\n\\n\\nSmt Pratibha Devisingh Patil (birth - 1934)\\nTerm of Office: 25 July, 2007 to 25 July, 2012 \\nhttp://pratibhapatil.nic.in\\n\\n\\n\\nDR. A.P.J. Abdul Kalam (1931-2015)\\nTerm of Office: 25 July, 2002 to 25 July, 2007 \\nhttp://abdulkalam.nic.in\\n\\n\\n\\nShri K. R. Narayanan (1920 - 2005)\\nTerm of Office: 25 July, 1997 to 25 July, 2002 \\n\\n\\n\\nDr Shankar Dayal Sharma (1918-1999)\\nTerm of Office: 25 July, 1992 to 25 July, 1997 \\n\\n\\n\\nShri R Venkataraman (1910-2009)\\nTerm of Office: 25 July, 1987 to 25 July, 1992 \\n\\n\\n\\nGiani Zail Singh (1916-1994)\\nTerm of Office: 25 July, 1982 to 25 July, 1987 \\n\\n\\n\\nShri Neelam Sanjiva Reddy (1913-1996)\\nTerm of Office: 25 July, 1977 to 25 July, 1982 \\n\\n\\n\\nDr. Fakhruddin Ali Ahmed (1905-1977)\\nTerm of Office: 24 August, 1974 to 11 February, 1977\\n\\n\\n\\nShri Varahagiri Venkata Giri (1894-1980)\\nTerm of Office: 3 May, 1969 to 20 July, 1969 and 24 August, 1969 to 24 August, 1974\\n\\n\\n\\nDr. Zakir Husain (1897-1969)\\nTerm of Office: 13 May, 1967 to 3 May, 1969\\n\\n\\n\\nDr. Sarvepalli Radhakrishnan (1888-1975)\\nTerm of Office: 13 May, 1962 to 13 May, 1967\\n\\n\\n\\nDr. Rajendra Prasad (1884-1963) \\nTerm of Office: 26 January, 1950 to 13 May, 1962\\n\\n'"
      ]
     },
     "execution_count": 64,
     "metadata": {},
     "output_type": "execute_result"
    }
   ],
   "source": [
    "first_title=soup1.find('ul',class_=\"listing cf\")\n",
    "first_title.text"
   ]
  },
  {
   "cell_type": "code",
   "execution_count": 71,
   "id": "db0d7c6c",
   "metadata": {},
   "outputs": [],
   "source": [
    "menscricket= requests.get('https://www.icc-cricket.com/rankings/mens/player-rankings/test')\n",
    "soup2=BeautifulSoup(menscricket.content)"
   ]
  },
  {
   "cell_type": "code",
   "execution_count": 81,
   "id": "b06fd608",
   "metadata": {},
   "outputs": [
    {
     "data": {
      "text/plain": [
       "'test\\nTest Batting Rankings\\n\\n\\n\\n\\nShare\\n\\n\\n\\n\\n\\n\\n\\n\\n\\n\\n\\n\\n\\n\\n\\n\\nURL Copied\\n\\n\\n\\n\\n\\n\\n\\n\\n\\n\\n                                1\\n                            \\n\\n\\n(0)\\n\\n\\n\\n\\nJoe Root\\n\\n\\nENG\\n                            887\\n\\n\\n\\n\\n\\n\\n\\n\\n\\n\\n\\n\\n\\nPos\\nPlayer\\nTeam\\nRating\\n\\n\\n\\n\\n\\n\\n\\n                                    2\\n                                \\n\\n\\n(0)\\n\\n\\n\\n\\nMarnus Labuschagne\\n\\n\\n\\nAUS\\n\\n885\\n\\n\\n\\n\\n\\n                                    3\\n                                \\n\\n\\n(0)\\n\\n\\n\\n\\nBabar Azam\\n\\n\\n\\nPAK\\n\\n879\\n\\n\\n\\n\\n\\n                                    4\\n                                \\n\\n\\n(0)\\n\\n\\n\\n\\nSteve Smith\\n\\n\\n\\nAUS\\n\\n848\\n\\n\\n\\n\\n\\n                                    5\\n                                \\n\\n\\n(0)\\n\\n\\n\\n\\nRishabh Pant\\n\\n\\n\\nIND\\n\\n801\\n\\n\\n\\n\\n\\n                                    6\\n                                \\n\\n\\n(0)\\n\\n\\n\\n\\nKane Williamson\\n\\n\\n\\nNZ\\n\\n786\\n\\n\\n\\n\\n\\n                                    7\\n                                \\n\\n\\n(0)\\n\\n\\n\\n\\nUsman Khawaja\\n\\n\\n\\nAUS\\n\\n766\\n\\n\\n\\n\\n\\n                                    8\\n                                \\n\\n\\n(0)\\n\\n\\n\\n\\nDimuth Karunaratne\\n\\n\\n\\nSL\\n\\n748\\n\\n\\n\\n\\n\\n                                    9\\n                                \\n\\n\\n(0)\\n\\n\\n\\n\\nRohit Sharma\\n\\n\\n\\nIND\\n\\n746\\n\\n\\n\\n\\n\\n                                    10\\n                                \\n\\n\\n(0)\\n\\n\\n\\n\\nJonny Bairstow\\n\\n\\n\\nENG\\n\\n719\\n\\n\\n\\n\\nFull Table'"
      ]
     },
     "execution_count": 81,
     "metadata": {},
     "output_type": "execute_result"
    }
   ],
   "source": [
    "third_title=soup2.find('div',class_=\"rankings-block__container\")\n",
    "third_title.text.strip()"
   ]
  },
  {
   "cell_type": "code",
   "execution_count": 80,
   "id": "dd4a5a31",
   "metadata": {},
   "outputs": [
    {
     "data": {
      "text/plain": [
       "'test\\nTest Batting Rankings\\n\\n\\n\\n\\nShare\\n\\n\\n\\n\\n\\n\\n\\n\\n\\n\\n\\n\\n\\n\\n\\n\\nURL Copied\\n\\n\\n\\n\\n\\n\\n\\n\\n\\n\\n                                1\\n                            \\n\\n\\n(0)\\n\\n\\n\\n\\nJoe Root\\n\\n\\nENG\\n                            887\\n\\n\\n\\n\\n\\n\\n\\n\\n\\n\\n\\n\\n\\nPos\\nPlayer\\nTeam\\nRating\\n\\n\\n\\n\\n\\n\\n\\n                                    2\\n                                \\n\\n\\n(0)\\n\\n\\n\\n\\nMarnus Labuschagne\\n\\n\\n\\nAUS\\n\\n885\\n\\n\\n\\n\\n\\n                                    3\\n                                \\n\\n\\n(0)\\n\\n\\n\\n\\nBabar Azam\\n\\n\\n\\nPAK\\n\\n879\\n\\n\\n\\n\\n\\n                                    4\\n                                \\n\\n\\n(0)\\n\\n\\n\\n\\nSteve Smith\\n\\n\\n\\nAUS\\n\\n848\\n\\n\\n\\n\\n\\n                                    5\\n                                \\n\\n\\n(0)\\n\\n\\n\\n\\nRishabh Pant\\n\\n\\n\\nIND\\n\\n801\\n\\n\\n\\n\\n\\n                                    6\\n                                \\n\\n\\n(0)\\n\\n\\n\\n\\nKane Williamson\\n\\n\\n\\nNZ\\n\\n786\\n\\n\\n\\n\\n\\n                                    7\\n                                \\n\\n\\n(0)\\n\\n\\n\\n\\nUsman Khawaja\\n\\n\\n\\nAUS\\n\\n766\\n\\n\\n\\n\\n\\n                                    8\\n                                \\n\\n\\n(0)\\n\\n\\n\\n\\nDimuth Karunaratne\\n\\n\\n\\nSL\\n\\n748\\n\\n\\n\\n\\n\\n                                    9\\n                                \\n\\n\\n(0)\\n\\n\\n\\n\\nRohit Sharma\\n\\n\\n\\nIND\\n\\n746\\n\\n\\n\\n\\n\\n                                    10\\n                                \\n\\n\\n(0)\\n\\n\\n\\n\\nJonny Bairstow\\n\\n\\n\\nENG\\n\\n719\\n\\n\\n\\n\\nFull Table\\n\\n\\n\\n\\n\\n\\n\\ntest\\nTest Bowling Rankings\\n\\n\\n\\n\\nShare\\n\\n\\n\\n\\n\\n\\n\\n\\n\\n\\n\\n\\n\\n\\n\\n\\nURL Copied\\n\\n\\n\\n\\n\\n\\n\\n\\n\\n\\n                                1\\n                            \\n\\n\\n(0)\\n\\n\\n\\n\\nPat Cummins\\n\\n\\nAUS\\n                            891\\n\\n\\n\\n\\n\\n\\n\\n\\n\\n\\n\\n\\n\\nPos\\nPlayer\\nTeam\\nRating\\n\\n\\n\\n\\n\\n\\n\\n                                    2\\n                                \\n\\n\\n(0)\\n\\n\\n\\n\\nRavichandran Ashwin\\n\\n\\n\\nIND\\n\\n842\\n\\n\\n\\n\\n\\n                                    3\\n                                \\n\\n\\n(0)\\n\\n\\n\\n\\nShaheen Afridi\\n\\n\\n\\nPAK\\n\\n828\\n\\n\\n\\n\\n\\n                                    4\\n                                \\n\\n\\n(0)\\n\\n\\n\\n\\nJasprit Bumrah\\n\\n\\n\\nIND\\n\\n828\\n\\n\\n\\n\\n\\n                                    5\\n                                \\n\\n\\n(0)\\n\\n\\n\\n\\nJames Anderson\\n\\n\\n\\nENG\\n\\n825\\n\\n\\n\\n\\n\\n                                    6\\n                                \\n\\n\\n(0)\\n\\n\\n\\n\\nKagiso Rabada\\n\\n\\n\\nSA\\n\\n799\\n\\n\\n\\n\\n\\n                                    7\\n                                \\n\\n\\n(0)\\n\\n\\n\\n\\nKyle Jamieson\\n\\n\\n\\nNZ\\n\\n788\\n\\n\\n\\n\\n\\n                                    8\\n                                \\n\\n\\n(0)\\n\\n\\n\\n\\nKemar Roach\\n\\n\\n\\nWI\\n\\n756\\n\\n\\n\\n\\n\\n                                    9\\n                                \\n\\n\\n(0)\\n\\n\\n\\n\\nNeil Wagner\\n\\n\\n\\nNZ\\n\\n747\\n\\n\\n\\n\\n\\n                                    10\\n                                \\n\\n\\n(0)\\n\\n\\n\\n\\nMitchell Starc\\n\\n\\n\\nAUS\\n\\n739\\n\\n\\n\\n\\nFull Table\\n\\n\\n\\n\\n\\n\\n\\ntest\\nTest All-Rounder Rankings\\n\\n\\n\\n\\nShare\\n\\n\\n\\n\\n\\n\\n\\n\\n\\n\\n\\n\\n\\n\\n\\n\\nURL Copied\\n\\n\\n\\n\\n\\n\\n\\n\\n\\n\\n                                1\\n                            \\n\\n\\n(0)\\n\\n\\n\\n\\nRavindra Jadeja\\n\\n\\nIND\\n                            384\\n\\n\\n\\n\\n\\n\\n\\n\\n\\n\\n\\n\\n\\nPos\\nPlayer\\nTeam\\nRating\\n\\n\\n\\n\\n\\n\\n\\n                                    2\\n                                \\n\\n\\n(0)\\n\\n\\n\\n\\nBen Stokes\\n\\n\\n\\nENG\\n\\n362\\n\\n\\n\\n\\n\\n                                    3\\n                                \\n\\n\\n(0)\\n\\n\\n\\n\\nRavichandran Ashwin\\n\\n\\n\\nIND\\n\\n335\\n\\n\\n\\n\\n\\n                                    4\\n                                \\n\\n\\n(0)\\n\\n\\n\\n\\nShakib Al Hasan\\n\\n\\n\\nBAN\\n\\n328\\n\\n\\n\\n\\n\\n                                    5\\n                                \\n\\n\\n(0)\\n\\n\\n\\n\\nJason Holder\\n\\n\\n\\nWI\\n\\n323\\n\\n\\n\\n\\n\\n                                    6\\n                                \\n\\n\\n(0)\\n\\n\\n\\n\\nMitchell Starc\\n\\n\\n\\nAUS\\n\\n267\\n\\n\\n\\n\\n\\n                                    7\\n                                \\n\\n\\n(0)\\n\\n\\n\\n\\nPat Cummins\\n\\n\\n\\nAUS\\n\\n258\\n\\n\\n\\n\\n\\n                                    8\\n                                \\n\\n\\n(0)\\n\\n\\n\\n\\nKyle Mayers\\n\\n\\n\\nWI\\n\\n258\\n\\n\\n\\n\\n\\n                                    9\\n                                \\n\\n\\n(0)\\n\\n\\n\\n\\nColin de Grandhomme\\n\\n\\n\\nNZ\\n\\n238\\n\\n\\n\\n\\n\\n                                    10\\n                                \\n\\n\\n(0)\\n\\n\\n\\n\\nKyle Jamieson\\n\\n\\n\\nNZ\\n\\n221\\n\\n\\n\\n\\nFull Table'"
      ]
     },
     "execution_count": 80,
     "metadata": {},
     "output_type": "execute_result"
    }
   ],
   "source": [
    "third_title2=soup2.find('div',class_=\"u-negative-wrapper-tab uniform-grid touch-scroll-list--tablet\")\n",
    "third_title2.text.strip()"
   ]
  },
  {
   "cell_type": "code",
   "execution_count": null,
   "id": "4f4f6b6b",
   "metadata": {},
   "outputs": [],
   "source": []
  },
  {
   "cell_type": "code",
   "execution_count": 82,
   "id": "d80abcdf",
   "metadata": {},
   "outputs": [
    {
     "data": {
      "text/plain": [
       "'test\\nTest Batting Rankings\\n\\n\\n\\n\\nShare\\n\\n\\n\\n\\n\\n\\n\\n\\n\\n\\n\\n\\n\\n\\n\\n\\nURL Copied\\n\\n\\n\\n\\n\\n\\n\\n\\n\\n\\n                                1\\n                            \\n\\n\\n(0)\\n\\n\\n\\n\\nJoe Root\\n\\n\\nENG\\n                            887\\n\\n\\n\\n\\n\\n\\n\\n\\n\\n\\n\\n\\n\\nPos\\nPlayer\\nTeam\\nRating\\n\\n\\n\\n\\n\\n\\n\\n                                    2\\n                                \\n\\n\\n(0)\\n\\n\\n\\n\\nMarnus Labuschagne\\n\\n\\n\\nAUS\\n\\n885\\n\\n\\n\\n\\n\\n                                    3\\n                                \\n\\n\\n(0)\\n\\n\\n\\n\\nBabar Azam\\n\\n\\n\\nPAK\\n\\n879\\n\\n\\n\\n\\n\\n                                    4\\n                                \\n\\n\\n(0)\\n\\n\\n\\n\\nSteve Smith\\n\\n\\n\\nAUS\\n\\n848\\n\\n\\n\\n\\n\\n                                    5\\n                                \\n\\n\\n(0)\\n\\n\\n\\n\\nRishabh Pant\\n\\n\\n\\nIND\\n\\n801\\n\\n\\n\\n\\n\\n                                    6\\n                                \\n\\n\\n(0)\\n\\n\\n\\n\\nKane Williamson\\n\\n\\n\\nNZ\\n\\n786\\n\\n\\n\\n\\n\\n                                    7\\n                                \\n\\n\\n(0)\\n\\n\\n\\n\\nUsman Khawaja\\n\\n\\n\\nAUS\\n\\n766\\n\\n\\n\\n\\n\\n                                    8\\n                                \\n\\n\\n(0)\\n\\n\\n\\n\\nDimuth Karunaratne\\n\\n\\n\\nSL\\n\\n748\\n\\n\\n\\n\\n\\n                                    9\\n                                \\n\\n\\n(0)\\n\\n\\n\\n\\nRohit Sharma\\n\\n\\n\\nIND\\n\\n746\\n\\n\\n\\n\\n\\n                                    10\\n                                \\n\\n\\n(0)\\n\\n\\n\\n\\nJonny Bairstow\\n\\n\\n\\nENG\\n\\n719\\n\\n\\n\\n\\nFull Table'"
      ]
     },
     "execution_count": 82,
     "metadata": {},
     "output_type": "execute_result"
    }
   ],
   "source": [
    "third_title3=soup2.find('div',class_=\"rankings-block__container\")\n",
    "third_title3.text.strip()"
   ]
  },
  {
   "cell_type": "markdown",
   "id": "f33e3d36",
   "metadata": {},
   "source": [
    "#Write a python program to scrape cricket rankings from icc-cricket.com. You have to scrape:\n",
    "#a) Top 10 ODI teams in women’s cricket along with the records for matches, points and rating.\n",
    "#b) Top 10 women’s ODI Batting players along with the records of their team and rating.\n",
    "#c) Top 10 women’s ODI all-rounder along with the records of their team and rating."
   ]
  },
  {
   "cell_type": "code",
   "execution_count": 84,
   "id": "174eeff3",
   "metadata": {},
   "outputs": [],
   "source": [
    "womenscricket=requests.get('https://www.icc-cricket.com/rankings/womens/player-rankings/odi')\n",
    "soup3=BeautifulSoup(womenscricket.content)"
   ]
  },
  {
   "cell_type": "code",
   "execution_count": 85,
   "id": "6a0029bc",
   "metadata": {},
   "outputs": [
    {
     "data": {
      "text/plain": [
       "\"Women's ODI Player Rankings\\n\\n\\n\\n\\n\\n\\nwodi\\nODI Batting Rankings\\n\\n\\n\\n\\nShare\\n\\n\\n\\n\\n\\n\\n\\n\\n\\n\\n\\n\\n\\n\\n\\n\\nURL Copied\\n\\n\\n\\n\\n\\n\\n\\n\\n\\n\\n                                1\\n                            \\n\\n\\n(0)\\n\\n\\n\\n\\nAlyssa Healy\\n\\n\\nAUS\\n                            785\\n\\n\\n\\n\\n\\n\\n\\n\\n\\n\\n\\n\\n\\nPos\\nPlayer\\nTeam\\nRating\\n\\n\\n\\n\\n\\n\\n\\n                                    2\\n                                \\n\\n\\n(0)\\n\\n\\n\\n\\nBeth Mooney\\n\\n\\n\\nAUS\\n\\n749\\n\\n\\n\\n\\n\\n                                    3\\n                                \\n\\n\\n(0)\\n\\n\\n\\n\\nNatalie Sciver\\n\\n\\n\\nENG\\n\\n740\\n\\n\\n\\n\\n\\n                                    4\\n                                \\n\\n\\n(0)\\n\\n\\n\\n\\nLaura Wolvaardt\\n\\n\\n\\nSA\\n\\n732\\n\\n\\n\\n\\n\\n                                    5\\n                                \\n\\n\\n(0)\\n\\n\\n\\n\\nMeg Lanning\\n\\n\\n\\nAUS\\n\\n710\\n\\n\\n\\n\\n\\n                                    6\\n                                \\n\\n\\n(0)\\n\\n\\n\\n\\nRachael Haynes\\n\\n\\n\\nAUS\\n\\n701\\n\\n\\n\\n\\n\\n                                    7\\n                                \\n\\n\\n\\n\\n(3)\\nThis player has moved up in the rankings since the previous rankings update\\n\\n\\n\\n\\nSmriti Mandhana\\n\\n\\n\\nIND\\n\\n698\\n\\n\\n\\n\\n\\n                                    8\\n                                \\n\\n\\n\\n\\n(1)\\nThis player has moved down in the rankings since the previous rankings update\\n\\n\\n\\n\\nAmy Satterthwaite\\n\\n\\n\\nNZ\\n\\n681\\n\\n\\n\\n\\n\\n                                    9\\n                                \\n\\n\\n\\n\\n\\nThis player has moved up in the rankings since the previous rankings update\\n\\n\\n\\n\\nHarmanpreet Kaur\\n\\n\\n\\nIND\\n\\n662\\n\\n\\n\\n\\n\\n                                    10\\n                                \\n\\n\\n\\n\\n(1)\\nThis player has moved down in the rankings since the previous rankings update\\n\\n\\n\\n\\nChamari Athapaththu\\n\\n\\n\\nSL\\n\\n655\\n\\n\\n\\n\\nFull Table\\n\\n\\n\\n\\n\\n\\n\\nwodi\\nODI Bowling Rankings\\n\\n\\n\\n\\nShare\\n\\n\\n\\n\\n\\n\\n\\n\\n\\n\\n\\n\\n\\n\\n\\n\\nURL Copied\\n\\n\\n\\n\\n\\n\\n\\n\\n\\n\\n                                1\\n                            \\n\\n\\n(0)\\n\\n\\n\\n\\nSophie Ecclestone\\n\\n\\nENG\\n                            748\\n\\n\\n\\n\\n\\n\\n\\n\\n\\n\\n\\n\\n\\nPos\\nPlayer\\nTeam\\nRating\\n\\n\\n\\n\\n\\n\\n\\n                                    2\\n                                \\n\\n\\n(0)\\n\\n\\n\\n\\nJess Jonassen\\n\\n\\n\\nAUS\\n\\n725\\n\\n\\n\\n\\n\\n                                    3\\n                                \\n\\n\\n(0)\\n\\n\\n\\n\\nMegan Schutt\\n\\n\\n\\nAUS\\n\\n722\\n\\n\\n\\n\\n\\n                                    4\\n                                \\n\\n\\n(0)\\n\\n\\n\\n\\nShabnim Ismail\\n\\n\\n\\nSA\\n\\n722\\n\\n\\n\\n\\n\\n                                    5\\n                                \\n\\n\\n(0)\\n\\n\\n\\n\\nJhulan Goswami\\n\\n\\n\\nIND\\n\\n689\\n\\n\\n\\n\\n\\n                                    6\\n                                \\n\\n\\n(0)\\n\\n\\n\\n\\nAyabonga Khaka\\n\\n\\n\\nSA\\n\\n634\\n\\n\\n\\n\\n\\n                                    7\\n                                \\n\\n\\n(0)\\n\\n\\n\\n\\nRajeshwari Gayakwad\\n\\n\\n\\nIND\\n\\n625\\n\\n\\n\\n\\n\\n                                    8\\n                                \\n\\n\\n(0)\\n\\n\\n\\n\\nHayley Matthews\\n\\n\\n\\nWI\\n\\n612\\n\\n\\n\\n\\n\\n                                    9\\n                                \\n\\n\\n\\n\\n(1)\\nThis player has moved up in the rankings since the previous rankings update\\n\\n\\n\\n\\nMarizanne Kapp\\n\\n\\n\\nSA\\n\\n598\\n\\n\\n\\n\\n\\n                                    10\\n                                \\n\\n\\n\\n\\n\\nThis player has moved up in the rankings since the previous rankings update\\n\\n\\n\\n\\nKate Cross\\n\\n\\n\\nENG\\n\\n597\\n\\n\\n\\n\\nFull Table\\n\\n\\n\\n\\n\\n\\n\\nwodi\\nODI All-Rounder Rankings\\n\\n\\n\\n\\nShare\\n\\n\\n\\n\\n\\n\\n\\n\\n\\n\\n\\n\\n\\n\\n\\n\\nURL Copied\\n\\n\\n\\n\\n\\n\\n\\n\\n\\n\\n                                1\\n                            \\n\\n\\n\\n\\n(1)\\nThis player has moved up in the rankings since the previous rankings update\\n\\n\\n\\n\\nEllyse Perry\\n\\n\\nAUS\\n                            374\\n\\n\\n\\n\\n\\n\\n\\n\\n\\n\\n\\n\\n\\nPos\\nPlayer\\nTeam\\nRating\\n\\n\\n\\n\\n\\n\\n\\n                                    2\\n                                \\n\\n\\n\\n\\n(1)\\nThis player has moved down in the rankings since the previous rankings update\\n\\n\\n\\n\\nNatalie Sciver\\n\\n\\n\\nENG\\n\\n372\\n\\n\\n\\n\\n\\n                                    3\\n                                \\n\\n\\n(0)\\n\\n\\n\\n\\nMarizanne Kapp\\n\\n\\n\\nSA\\n\\n349\\n\\n\\n\\n\\n\\n                                    4\\n                                \\n\\n\\n(0)\\n\\n\\n\\n\\nHayley Matthews\\n\\n\\n\\nWI\\n\\n339\\n\\n\\n\\n\\n\\n                                    5\\n                                \\n\\n\\n(0)\\n\\n\\n\\n\\nAmelia Kerr\\n\\n\\n\\nNZ\\n\\n336\\n\\n\\n\\n\\n\\n                                    6\\n                                \\n\\n\\n\\n\\n(1)\\nThis player has moved up in the rankings since the previous rankings update\\n\\n\\n\\n\\nDeepti Sharma\\n\\n\\n\\nIND\\n\\n271\\n\\n\\n\\n\\n\\n                                    7\\n                                \\n\\n\\n\\n\\n(1)\\nThis player has moved down in the rankings since the previous rankings update\\n\\n\\n\\n\\nAshleigh Gardner\\n\\n\\n\\nAUS\\n\\n270\\n\\n\\n\\n\\n\\n                                    8\\n                                \\n\\n\\n(0)\\n\\n\\n\\n\\nJess Jonassen\\n\\n\\n\\nAUS\\n\\n246\\n\\n\\n\\n\\n\\n                                    9\\n                                \\n\\n\\n\\n\\n\\nThis player has moved up in the rankings since the previous rankings update\\n\\n\\n\\n\\nJhulan Goswami\\n\\n\\n\\nIND\\n\\n219\\n\\n\\n\\n\\n\\n                                    10\\n                                \\n\\n\\n\\n\\n\\nThis player has moved up in the rankings since the previous rankings update\\n\\n\\n\\n\\nSophie Ecclestone\\n\\n\\n\\nENG\\n\\n217\\n\\n\\n\\n\\nFull Table\""
      ]
     },
     "execution_count": 85,
     "metadata": {},
     "output_type": "execute_result"
    }
   ],
   "source": [
    "first_title1=soup3.find('div',class_=\"widget rankings-widget\")\n",
    "first_title1.text.strip()\n"
   ]
  },
  {
   "cell_type": "code",
   "execution_count": 87,
   "id": "308453da",
   "metadata": {},
   "outputs": [
    {
     "data": {
      "text/plain": [
       "'wodi\\nODI Batting Rankings\\n\\n\\n\\n\\nShare\\n\\n\\n\\n\\n\\n\\n\\n\\n\\n\\n\\n\\n\\n\\n\\n\\nURL Copied\\n\\n\\n\\n\\n\\n\\n\\n\\n\\n\\n                                1\\n                            \\n\\n\\n(0)\\n\\n\\n\\n\\nAlyssa Healy\\n\\n\\nAUS\\n                            785\\n\\n\\n\\n\\n\\n\\n\\n\\n\\n\\n\\n\\n\\nPos\\nPlayer\\nTeam\\nRating\\n\\n\\n\\n\\n\\n\\n\\n                                    2\\n                                \\n\\n\\n(0)\\n\\n\\n\\n\\nBeth Mooney\\n\\n\\n\\nAUS\\n\\n749\\n\\n\\n\\n\\n\\n                                    3\\n                                \\n\\n\\n(0)\\n\\n\\n\\n\\nNatalie Sciver\\n\\n\\n\\nENG\\n\\n740\\n\\n\\n\\n\\n\\n                                    4\\n                                \\n\\n\\n(0)\\n\\n\\n\\n\\nLaura Wolvaardt\\n\\n\\n\\nSA\\n\\n732\\n\\n\\n\\n\\n\\n                                    5\\n                                \\n\\n\\n(0)\\n\\n\\n\\n\\nMeg Lanning\\n\\n\\n\\nAUS\\n\\n710\\n\\n\\n\\n\\n\\n                                    6\\n                                \\n\\n\\n(0)\\n\\n\\n\\n\\nRachael Haynes\\n\\n\\n\\nAUS\\n\\n701\\n\\n\\n\\n\\n\\n                                    7\\n                                \\n\\n\\n\\n\\n(3)\\nThis player has moved up in the rankings since the previous rankings update\\n\\n\\n\\n\\nSmriti Mandhana\\n\\n\\n\\nIND\\n\\n698\\n\\n\\n\\n\\n\\n                                    8\\n                                \\n\\n\\n\\n\\n(1)\\nThis player has moved down in the rankings since the previous rankings update\\n\\n\\n\\n\\nAmy Satterthwaite\\n\\n\\n\\nNZ\\n\\n681\\n\\n\\n\\n\\n\\n                                    9\\n                                \\n\\n\\n\\n\\n\\nThis player has moved up in the rankings since the previous rankings update\\n\\n\\n\\n\\nHarmanpreet Kaur\\n\\n\\n\\nIND\\n\\n662\\n\\n\\n\\n\\n\\n                                    10\\n                                \\n\\n\\n\\n\\n(1)\\nThis player has moved down in the rankings since the previous rankings update\\n\\n\\n\\n\\nChamari Athapaththu\\n\\n\\n\\nSL\\n\\n655\\n\\n\\n\\n\\nFull Table'"
      ]
     },
     "execution_count": 87,
     "metadata": {},
     "output_type": "execute_result"
    }
   ],
   "source": [
    "first_title2=soup3.find('div',class_=\"rankings-block__container\")\n",
    "first_title2.text.strip()\n"
   ]
  },
  {
   "cell_type": "code",
   "execution_count": 89,
   "id": "6cd973eb",
   "metadata": {},
   "outputs": [
    {
     "data": {
      "text/plain": [
       "'wodi\\nODI Batting Rankings\\n\\n\\n\\n\\nShare\\n\\n\\n\\n\\n\\n\\n\\n\\n\\n\\n\\n\\n\\n\\n\\n\\nURL Copied\\n\\n\\n\\n\\n\\n\\n\\n\\n\\n\\n                                1\\n                            \\n\\n\\n(0)\\n\\n\\n\\n\\nAlyssa Healy\\n\\n\\nAUS\\n                            785\\n\\n\\n\\n\\n\\n\\n\\n\\n\\n\\n\\n\\n\\nPos\\nPlayer\\nTeam\\nRating\\n\\n\\n\\n\\n\\n\\n\\n                                    2\\n                                \\n\\n\\n(0)\\n\\n\\n\\n\\nBeth Mooney\\n\\n\\n\\nAUS\\n\\n749\\n\\n\\n\\n\\n\\n                                    3\\n                                \\n\\n\\n(0)\\n\\n\\n\\n\\nNatalie Sciver\\n\\n\\n\\nENG\\n\\n740\\n\\n\\n\\n\\n\\n                                    4\\n                                \\n\\n\\n(0)\\n\\n\\n\\n\\nLaura Wolvaardt\\n\\n\\n\\nSA\\n\\n732\\n\\n\\n\\n\\n\\n                                    5\\n                                \\n\\n\\n(0)\\n\\n\\n\\n\\nMeg Lanning\\n\\n\\n\\nAUS\\n\\n710\\n\\n\\n\\n\\n\\n                                    6\\n                                \\n\\n\\n(0)\\n\\n\\n\\n\\nRachael Haynes\\n\\n\\n\\nAUS\\n\\n701\\n\\n\\n\\n\\n\\n                                    7\\n                                \\n\\n\\n\\n\\n(3)\\nThis player has moved up in the rankings since the previous rankings update\\n\\n\\n\\n\\nSmriti Mandhana\\n\\n\\n\\nIND\\n\\n698\\n\\n\\n\\n\\n\\n                                    8\\n                                \\n\\n\\n\\n\\n(1)\\nThis player has moved down in the rankings since the previous rankings update\\n\\n\\n\\n\\nAmy Satterthwaite\\n\\n\\n\\nNZ\\n\\n681\\n\\n\\n\\n\\n\\n                                    9\\n                                \\n\\n\\n\\n\\n\\nThis player has moved up in the rankings since the previous rankings update\\n\\n\\n\\n\\nHarmanpreet Kaur\\n\\n\\n\\nIND\\n\\n662\\n\\n\\n\\n\\n\\n                                    10\\n                                \\n\\n\\n\\n\\n(1)\\nThis player has moved down in the rankings since the previous rankings update\\n\\n\\n\\n\\nChamari Athapaththu\\n\\n\\n\\nSL\\n\\n655\\n\\n\\n\\n\\nFull Table'"
      ]
     },
     "execution_count": 89,
     "metadata": {},
     "output_type": "execute_result"
    }
   ],
   "source": [
    "first_title3=soup3.find('div',class_=\"rankings-block__container\")\n",
    "first_title3.text.strip()"
   ]
  },
  {
   "cell_type": "markdown",
   "id": "41f6f576",
   "metadata": {},
   "source": [
    "#Write a python program to scrape mentioned news details from https://www.cnbc.com/world/?region=world :\n",
    "#i) Headline\n",
    "#ii) Time\n",
    "#iii) News Link"
   ]
  },
  {
   "cell_type": "code",
   "execution_count": 90,
   "id": "1b64bb43",
   "metadata": {},
   "outputs": [],
   "source": [
    "newssite=requests.get('https://www.cnbc.com/world/?region=world')\n",
    "soup4=BeautifulSoup(newssite.content)"
   ]
  },
  {
   "cell_type": "code",
   "execution_count": 92,
   "id": "58379b9b",
   "metadata": {},
   "outputs": [
    {
     "data": {
      "text/plain": [
       "\"Latest News9 Hours Ago3 rules for a successful open relationship, according to an NYC therapist10 Hours AgoBiden administration awards $1.5 billion to fight opioid crisis11 Hours AgoTop 10 cities with the best pizzerias worldwide—see where NYC lands on the list12 Hours AgoBlack Girls in Trader Joe’s creator shares her top five favorite products13 Hours AgoWant to raise strong, resilient kids? Create 'nurturing routines,' says parenting expert—here’s how13 Hours AgoWhy the airline climate change plan is trailing autos and EVs13 Hours Ago'Queer Eye's Karamo Brown on the morning routines that keep him motivated13 Hours AgoThese 7 states have the least air pollution in the U.S.14 Hours AgoNew York is now No. 1 port in a tipping point for U.S.-bound trade14 Hours AgoAnalysts have 'high conviction' that these stocks have major upside.14 Hours AgoFeared stock market bottom retest is now underway14 Hours AgoThe No. 1 best city to retire isn't in Florida but the runner up is14 Hours AgoThe perils and promise of quantum computing are nearing. Here are ways to invest15 Hours AgoEverything parents need to know about student loan forgiveness 15 Hours AgoCheck in, smoke up and tune out: Cannabis-friendly vacation rentals are catching on15 Hours AgoConvertibles drive into the sunset as automakers invest in electric vehicles18 Hours AgoBritain's lurch toward 'Reaganomics' gets a thumbs down from the marketsSeptember 23, 2022Here's our plan for Monday after another painful week to own stocksSeptember 23, 2022What to watch in the markets in the week aheadSeptember 23, 2022Pro Picks: Watch all of Friday's big stock calls on CNBCSeptember 23, 202213 careers where over 50% of workers are happy with their paySeptember 23, 2022New York AG wrongly said Yankees game on Apple TV+ costs extra — but it's freeSeptember 23, 2022Tech stocks just had the worst two-week stretch since the start of the pandemicSeptember 23, 2022Takeaways from Jim Cramer's interviews with the CEOs of Salesforce and Slack September 23, 2022Some homebuyers are facing mortgage 'payment shock.' Here are ways to saveSeptember 23, 2022Ether is down almost 20% since the merge. Here’s what’s going onSeptember 23, 2022Elon Musk has over 20 direct reports at Tesla — here are the ones we know aboutSeptember 23, 2022Trump SPAC shares are now around $16 after hitting $97 earlier this yearSeptember 23, 2022Here's why U.S. fiscal policy is undermining the Fed's efforts to fight inflationSeptember 23, 2022Why gold and crypto haven't proven to be 'inflation-proof' investments in 2022View More\""
      ]
     },
     "execution_count": 92,
     "metadata": {},
     "output_type": "execute_result"
    }
   ],
   "source": [
    "second_title1=soup4.find('div',class_='SidebarArticle-sidebar PageBuilder-sidebar')\n",
    "second_title1.text.strip()"
   ]
  },
  {
   "cell_type": "code",
   "execution_count": 98,
   "id": "566a0786",
   "metadata": {},
   "outputs": [
    {
     "data": {
      "text/plain": [
       "'EURASIAPRE-MKTUSOILGOLDBONDSEUR FXASIA FXCRYPTO---------------------------------------------European stocks close 2.3% lower as UK tax cuts, weak euro zone data roil markets'"
      ]
     },
     "execution_count": 98,
     "metadata": {},
     "output_type": "execute_result"
    }
   ],
   "source": [
    "second_title2=soup4.find('div',class_='PageBuilder-col-full PageBuilder-col')\n",
    "second_title2.text.strip()"
   ]
  },
  {
   "cell_type": "code",
   "execution_count": 101,
   "id": "e5b45f1d",
   "metadata": {},
   "outputs": [
    {
     "data": {
      "text/plain": [
       "\"Quick LinksPRO: Market lookaheadU.S. 10-year yieldHedgies boost betsSterling-dollar parity?Goodbye, ragtopsCramer's inflation charts\""
      ]
     },
     "execution_count": 101,
     "metadata": {},
     "output_type": "execute_result"
    }
   ],
   "source": [
    "second_title3=soup4.find('div',class_='QuickLinks-scrollableContainer')\n",
    "second_title3.text.strip()"
   ]
  },
  {
   "cell_type": "markdown",
   "id": "c4b8cd36",
   "metadata": {},
   "source": [
    "#Write a python program to scrape mentioned details from dineout.co.in :\n",
    "#i) Restaurant name\n",
    "##ii) Cuisine\n",
    "#iii) Location \n",
    "#iv) Ratings\n",
    "#v) Image URL"
   ]
  },
  {
   "cell_type": "code",
   "execution_count": 110,
   "id": "149d1df0",
   "metadata": {},
   "outputs": [],
   "source": [
    "dinesite=requests.get('https://www.dineout.co.in/delhi-restaurants/buffet-special')\n",
    "soup5=BeautifulSoup(dinesite.content)"
   ]
  },
  {
   "cell_type": "code",
   "execution_count": 113,
   "id": "f3b56bd9",
   "metadata": {},
   "outputs": [
    {
     "data": {
      "text/plain": [
       "'4.14.3232 votesCastle BarbequeConnaught Place, Central Delhi₹ 2,000 for 2 (approx) | Chinese, North IndianDineout Pay3.94.3232 votesJungle Jamboree3CS Mall,Lajpat Nagar - 3, South Delhi₹ 1,680 for 2 (approx) | North Indian, Asian, ItalianDineout Pay3.94.3232 votesCastle BarbequePacific Mall,Tagore Garden, West Delhi₹ 2,000 for 2 (approx) | Chinese, North IndianDineout Pay4.34.3232 votesCafe KnoshThe Leela Ambience Convention Hotel,Shahdara, East Delhi₹ 3,000 for 2 (approx) | Italian, ContinentalDineout Pay44.3232 votesThe Barbeque CompanyGardens Galleria,Sector 38A, Noida₹ 1,700 for 2 (approx) | North Indian, Chinese4 deals availableDineout PayLunch Buffet with 1 Soft Beverage (Applicable for 4 Pax)Buy NowWeekend Dinner Buffet (Applicable for 4 Pax)Buy NowLunch Buffet with 1 Soft Beverage (Applicable for 4 Pax)Buy NowWeekday Dinner Buffet (Applicable for 4 Pax)Buy Now+3 more deals- See less3.94.3232 votesIndia GrillHilton Garden Inn,Saket, South Delhi₹ 2,400 for 2 (approx) | North Indian, ItalianDineout Pay3.74.3232 votesDelhi BarbequeTaurus Sarovar Portico,Mahipalpur, South Delhi₹ 1,800 for 2 (approx) | North IndianDineout Pay3.84.3232 votesThe Monarch - Bar Be Que VillageIndirapuram Habitat Centre,Indirapuram, Ghaziabad₹ 1,900 for 2 (approx) | North IndianDineout Pay4.34.3232 votesIndian Grill RoomSuncity Business Tower,Golf Course Road, Gurgaon₹ 2,200 for 2 (approx) | North Indian, MughlaiDineout Pay'"
      ]
     },
     "execution_count": 113,
     "metadata": {},
     "output_type": "execute_result"
    }
   ],
   "source": [
    "third_title1=soup5.find('div',class_='restnt-card-wrap-new')\n",
    "third_title1.text.strip()"
   ]
  },
  {
   "cell_type": "code",
   "execution_count": 115,
   "id": "bd7a27ed",
   "metadata": {},
   "outputs": [
    {
     "data": {
      "text/plain": [
       "'Cuisines-+North IndianChineseItalianAsianShow More (2)'"
      ]
     },
     "execution_count": 115,
     "metadata": {},
     "output_type": "execute_result"
    }
   ],
   "source": [
    "third_title2=soup5.find('div',class_='filter-component-wrap cuisine-wrap')\n",
    "third_title2.text.strip()"
   ]
  },
  {
   "cell_type": "markdown",
   "id": "493f9f23",
   "metadata": {},
   "source": [
    "Write a python program to scrape the details of top publications from Google Scholar from \n",
    "https://scholar.google.com/citations?view_op=top_venues&hl=en\n",
    "i) Rank \n",
    "ii) Publication\n",
    "iii) h5-index\n",
    " iv) h5-media"
   ]
  },
  {
   "cell_type": "code",
   "execution_count": 116,
   "id": "35f47f7b",
   "metadata": {},
   "outputs": [],
   "source": [
    "googlesite=requests.get('https://scholar.google.com/citations?view_op=top_venues&hl=en')\n",
    "soup6=BeautifulSoup(googlesite.content)"
   ]
  },
  {
   "cell_type": "code",
   "execution_count": 117,
   "id": "c63fbeca",
   "metadata": {},
   "outputs": [
    {
     "data": {
      "text/plain": [
       "'Publicationh5-indexh5-median1.Nature4446672.The New England Journal of Medicine4327803.Science4016144.IEEE/CVF Conference on Computer Vision and Pattern Recognition3896275.The Lancet3546356.Advanced Materials3124187.Nature Communications3074288.Cell3005059.International Conference on Learning Representations28653310.Neural Information Processing Systems27843611.JAMA26742512.Chemical Reviews26544413.Proceedings of the National Academy of Sciences25636414.Angewandte Chemie24533215.Chemical Society Reviews24438616.Journal of the American Chemical Society24234417.IEEE/CVF International Conference on Computer Vision23941518.Nucleic Acids Research23855019.International Conference on Machine Learning23742120.Nature Medicine23538921.Renewable and Sustainable Energy Reviews22732422.Science of The Total Environment22531123.Advanced Energy Materials22030024.Journal of Clinical Oncology21331525.ACS Nano21127726.Journal of Cleaner Production21127327.Advanced Functional Materials21028028.Physical Review Letters20729429.Scientific Reports20627430.The Lancet Oncology20232931.Energy & Environmental Science20229032.IEEE Access20030333.PLoS ONE19827834.Science Advances19729435.Journal of the American College of Cardiology19527636.Applied Catalysis B: Environmental19224637.Nature Genetics19129738.BMJ19030739.Circulation18930140.European Conference on Computer Vision18632141.International Journal of Molecular Sciences18325342.Nature Materials18126543.Chemical engineering journal18122444.AAAI Conference on Artificial Intelligence18029645.Journal of Materials Chemistry A17822046.ACS Applied Materials & Interfaces17722347.Nature Biotechnology17531548.The Lancet Infectious Diseases17329649.Frontiers in Immunology17322850.Applied Energy17321751.Nano Energy17223252.Nature Energy17031453.Meeting of the Association for Computational Linguistics (ACL)16930454.The Astrophysical Journal16723455.Gastroenterology16625456.Nature Methods16529657.IEEE Transactions on Pattern Analysis and Machine Intelligence16529358.Cochrane Database of Systematic Reviews16524359.Blood16522960.Neuron16423161.Nano Letters16420762.Morbidity and Mortality Weekly Report16330263.European Heart Journal16326564.Nature Nanotechnology16326465.ACS Catalysis16322066.Nature Neuroscience16224867.American Economic Review16026368.Journal of High Energy Physics16022069.IEEE Communications Surveys & Tutorials15930470.Annals of Oncology15924371.Nutrients15921472.Accounts of Chemical Research15921173.Immunity15824274.Environmental Science & Technology15821475.Nature Reviews. Molecular Cell Biology15534076.Gut15523577.Physical Review D15521778.ACS Energy Letters15521279.Monthly Notices of the Royal Astronomical Society15519480.Conference on Empirical Methods in Natural Language Processing (EMNLP)15424981.Clinical Infectious Diseases15327882.Cell Metabolism15321183.Nature Reviews Immunology15229284.Joule15223385.Nature Photonics15222886.International Journal of Environmental Research and Public Health15222587.Environmental Pollution15222288.Computers in Human Behavior15221489.Frontiers in Microbiology15122590.Nature Physics15122291.Small15019692.Cell Reports14920593.Molecular Cell14920294.Clinical Cancer Research14620195.Bioresource Technology14619096.Journal of Business Research14523397.Molecular Cancer14520998.Sensors14520199.Nature Climate Change144228100.IEEE Internet of Things Journal144212'"
      ]
     },
     "execution_count": 117,
     "metadata": {},
     "output_type": "execute_result"
    }
   ],
   "source": [
    "fourth_title1=soup6.find('div',class_='gs_scl')\n",
    "fourth_title1.text.strip()"
   ]
  },
  {
   "cell_type": "code",
   "execution_count": null,
   "id": "5429304e",
   "metadata": {},
   "outputs": [],
   "source": []
  }
 ],
 "metadata": {
  "kernelspec": {
   "display_name": "Python 3 (ipykernel)",
   "language": "python",
   "name": "python3"
  },
  "language_info": {
   "codemirror_mode": {
    "name": "ipython",
    "version": 3
   },
   "file_extension": ".py",
   "mimetype": "text/x-python",
   "name": "python",
   "nbconvert_exporter": "python",
   "pygments_lexer": "ipython3",
   "version": "3.9.7"
  }
 },
 "nbformat": 4,
 "nbformat_minor": 5
}
