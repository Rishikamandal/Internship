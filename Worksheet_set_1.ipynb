{
 "cells": [
  {
   "cell_type": "code",
   "execution_count": 10,
   "id": "9794ccd0",
   "metadata": {},
   "outputs": [
    {
     "name": "stdout",
     "output_type": "stream",
     "text": [
      "enter number for factorial 4\n",
      "factorial of the  4 is 24\n"
     ]
    }
   ],
   "source": [
    "# write a programm to find factorial of a number\n",
    "\n",
    "num = int(input(\"enter number for factorial \"))\n",
    "\n",
    "fact = 1\n",
    "\n",
    "if num<0:\n",
    "    print(\"factorial do'nt exit for negative number\")\n",
    "elif num==0:\n",
    "    print(\"factorial of 0 is 1\")\n",
    "else:\n",
    "    for i in range(1,num+1):\n",
    "        fact=fact*i\n",
    "    print(\"factorial of the \",num,\"is\",fact)"
   ]
  },
  {
   "cell_type": "code",
   "execution_count": 21,
   "id": "0898186c",
   "metadata": {},
   "outputs": [
    {
     "name": "stdout",
     "output_type": "stream",
     "text": [
      "enter any number 59\n",
      "number is prime number\n",
      "number is prime number\n",
      "number is prime number\n",
      "number is prime number\n",
      "number is prime number\n",
      "number is prime number\n",
      "number is prime number\n",
      "number is prime number\n",
      "number is prime number\n",
      "number is prime number\n",
      "number is prime number\n",
      "number is prime number\n",
      "number is prime number\n",
      "number is prime number\n",
      "number is prime number\n",
      "number is prime number\n",
      "number is prime number\n",
      "number is prime number\n",
      "number is prime number\n",
      "number is prime number\n",
      "number is prime number\n",
      "number is prime number\n",
      "number is prime number\n",
      "number is prime number\n",
      "number is prime number\n",
      "number is prime number\n",
      "number is prime number\n",
      "number is prime number\n",
      "number is prime number\n",
      "number is prime number\n",
      "number is prime number\n",
      "number is prime number\n",
      "number is prime number\n",
      "number is prime number\n",
      "number is prime number\n",
      "number is prime number\n",
      "number is prime number\n",
      "number is prime number\n",
      "number is prime number\n",
      "number is prime number\n",
      "number is prime number\n",
      "number is prime number\n",
      "number is prime number\n",
      "number is prime number\n",
      "number is prime number\n",
      "number is prime number\n",
      "number is prime number\n",
      "number is prime number\n",
      "number is prime number\n",
      "number is prime number\n",
      "number is prime number\n",
      "number is prime number\n",
      "number is prime number\n",
      "number is prime number\n",
      "number is prime number\n",
      "number is prime number\n",
      "number is prime number\n"
     ]
    }
   ],
   "source": [
    "# write a programm to find whether a number is prime or composite\n",
    "\n",
    "number=int(input(\"enter any number \"))\n",
    "\n",
    "\n",
    "if number>1:\n",
    "    for i in range(2,number):\n",
    "        if (number%i)==0:\n",
    "            print(number,\"is not a prime number\")\n",
    "            print(i,\"times\",number//i,\"is\",number)\n",
    "        else:\n",
    "            print(\"number is prime number\")\n",
    "            \n",
    "else:\n",
    "    print(\"number is not prime\")\n",
    "    "
   ]
  },
  {
   "cell_type": "code",
   "execution_count": 24,
   "id": "3f0e1f0a",
   "metadata": {},
   "outputs": [
    {
     "name": "stdout",
     "output_type": "stream",
     "text": [
      "enter the frist side of triangle 3\n",
      "enter the second side of triangle 4\n",
      "5.0\n"
     ]
    }
   ],
   "source": [
    "# write a programm to find thrid side of a right angle triangle from two given sides\n",
    "\n",
    "A =int(input(\"enter the frist side of triangle \"))\n",
    "B =int(input(\"enter the second side of triangle \"))\n",
    "\n",
    "def pytha():\n",
    "    C =(A**2 + B**2)**(1/2)\n",
    "    print(C)\n",
    "    \n",
    "pytha()\n",
    "    \n"
   ]
  },
  {
   "cell_type": "code",
   "execution_count": null,
   "id": "26f9579a",
   "metadata": {},
   "outputs": [],
   "source": [
    "# Write a python program to print the frequency of each of the characters present in a given string.\n",
    "\n",
    "\n",
    "count = 0\n",
    "my_string=input(\"enter any string  \")\n",
    "my_char=input(\"enter a character \")\n",
    "\n",
    "for i in my_string:\n",
    "    if i==my_char:\n",
    "        count= count+1\n",
    "print(count)"
   ]
  },
  {
   "cell_type": "code",
   "execution_count": null,
   "id": "38c65ea3",
   "metadata": {},
   "outputs": [],
   "source": []
  }
 ],
 "metadata": {
  "kernelspec": {
   "display_name": "Python 3 (ipykernel)",
   "language": "python",
   "name": "python3"
  },
  "language_info": {
   "codemirror_mode": {
    "name": "ipython",
    "version": 3
   },
   "file_extension": ".py",
   "mimetype": "text/x-python",
   "name": "python",
   "nbconvert_exporter": "python",
   "pygments_lexer": "ipython3",
   "version": "3.9.7"
  }
 },
 "nbformat": 4,
 "nbformat_minor": 5
}
